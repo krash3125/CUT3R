{
 "cells": [
  {
   "cell_type": "code",
   "execution_count": 50,
   "metadata": {},
   "outputs": [],
   "source": [
    "import cv2\n",
    "from skimage import data, img_as_float\n",
    "from skimage.metrics import structural_similarity as ssim\n",
    "import time\n",
    "import numpy as np\n",
    "import os"
   ]
  },
  {
   "cell_type": "code",
   "execution_count": 26,
   "metadata": {},
   "outputs": [],
   "source": [
    "def ssim_compare(img1_path, img2_path, dim=(112, 112)):\n",
    "    img1 = cv2.imread(img1_path, cv2.IMREAD_GRAYSCALE)\n",
    "    img2 = cv2.imread(img2_path, cv2.IMREAD_GRAYSCALE)\n",
    "\n",
    "    if img1 is None or img2 is None:\n",
    "        raise ValueError(\"One or both image paths are invalid or unreadable.\")\n",
    "\n",
    "    if img1.shape != dim:\n",
    "        img1 = cv2.resize(img1, dim, interpolation=cv2.INTER_AREA)\n",
    "    if img2.shape != dim:\n",
    "        img2 = cv2.resize(img2, dim, interpolation=cv2.INTER_AREA)\n",
    "\n",
    "    return ssim(img1, img2)\n",
    "\n",
    "def ssim_compare_frames(frame1, frame2, dim=(112, 112)):\n",
    "    if frame1.shape != dim:\n",
    "        img1 = cv2.resize(frame1, dim, interpolation=cv2.INTER_AREA)\n",
    "    if frame2.shape != dim:\n",
    "        img2 = cv2.resize(frame2, dim, interpolation=cv2.INTER_AREA)\n",
    "\n",
    "    gray1 = cv2.cvtColor(img1, cv2.COLOR_BGR2GRAY)\n",
    "    gray2 = cv2.cvtColor(img2, cv2.COLOR_BGR2GRAY)\n",
    "    return ssim(gray1, gray2)\n"
   ]
  },
  {
   "cell_type": "code",
   "execution_count": 21,
   "metadata": {},
   "outputs": [
    {
     "name": "stdout",
     "output_type": "stream",
     "text": [
      "Execution time: 0.020321 seconds\n",
      "SSIM Score: 0.9971229066536855\n"
     ]
    }
   ],
   "source": [
    "url_image1 = \"./CUT3R/examples/005/frame_0.png\"\n",
    "url_image2 = \"./CUT3R/examples/005/frame_1.png\"\n",
    "\n",
    "start = time.perf_counter()\n",
    "ssim_score = ssim_compare(url_image1, url_image2)\n",
    "end = time.perf_counter()\n",
    "\n",
    "print(f\"Execution time: {end - start:.6f} seconds\")\n",
    "print(f\"SSIM Score: {ssim_score}\")"
   ]
  },
  {
   "cell_type": "code",
   "execution_count": 56,
   "metadata": {},
   "outputs": [],
   "source": [
    "input_vid = './CUT3R/examples/vid_test.mp4'\n",
    "output_dir = \"frame_parse\"\n",
    "dim=(112,112)\n",
    "\n",
    "os.makedirs(output_dir, exist_ok=True)\n",
    "\n",
    "cap = cv2.VideoCapture(input_vid)\n",
    "\n",
    "frame_idx = 0\n",
    "last_saved_frame = None\n",
    "cap.set(cv2.CAP_PROP_POS_FRAMES, 0)\n",
    "\n",
    "while True:\n",
    "    ret, frame = cap.read()\n",
    "    if not ret:\n",
    "        break\n",
    "\n",
    "    if last_saved_frame is not None:\n",
    "        start = time.perf_counter()\n",
    "        score = ssim_compare_frames(last_saved_frame, frame)\n",
    "        end = time.perf_counter()\n",
    "        # print(f\"Frame {frame_idx} SSIM score with previous frame: {score:.6f} (computed in {end - start:.6f} seconds)\")\n",
    "\n",
    "        if score < .5:\n",
    "            # print(\"Less than 50% similariy, save\")\n",
    "\n",
    "            full_path = os.path.join(output_dir, f\"frame_{frame_idx}.png\")\n",
    "            cv2.imwrite(full_path, frame)\n",
    "\n",
    "            last_saved_frame = cv2.resize(frame, dim, interpolation=cv2.INTER_AREA)\n",
    "\n",
    "    else:\n",
    "        full_path = os.path.join(output_dir, f\"frame_{frame_idx}.png\")\n",
    "        cv2.imwrite(full_path, frame)\n",
    "        last_saved_frame = cv2.resize(frame, dim, interpolation=cv2.INTER_AREA)\n",
    "    \n",
    "    prev_frame = frame\n",
    "    frame_idx += 1\n",
    "\n",
    "\n",
    "cap.release()\n",
    "cv2.destroyAllWindows()"
   ]
  }
 ],
 "metadata": {
  "language_info": {
   "name": "python"
  }
 },
 "nbformat": 4,
 "nbformat_minor": 2
}
